{
 "cells": [
  {
   "cell_type": "code",
   "execution_count": null,
   "id": "9413e239",
   "metadata": {},
   "outputs": [],
   "source": [
    "import torch\n",
    "from torch_geometric.datasets import AirfRANS\n",
    "from torch_geometric.loader import DataLoader # We'll use this later for batching\n",
    "\n",
    "# Define a root directory for the dataset\n",
    "# This is where the dataset files will be downloaded and stored.\n",
    "DATA_ROOT = './data/AirfRANS'\n",
    "\n",
    "# Understanding the Data Object:\n",
    "# PyTorch Geometric's Data object is a simple container for graph data.\n",
    "# It typically contains:\n",
    "# - data.x: Node feature matrix with shape [num_nodes, num_node_features].\n",
    "#           For AirfRANS, this includes inlet velocity (vx, vy), distance to airfoil, and airfoil normals (nx, ny). (5 features)\n",
    "# - data.pos: Node position matrix with shape [num_nodes, num_dimensions].\n",
    "#             For AirfRANS, this is [num_nodes, 2] for (x, y) coordinates.\n",
    "# - data.y: Node target matrix with shape [num_nodes, num_node_labels].\n",
    "#           For AirfRANS, this includes velocity (vx, vy), pressure/specific_mass, and turbulent_kinematic_viscosity. (4 targets)\n",
    "# - data.edge_index: Graph connectivity in COO format with shape [2, num_edges].\n",
    "#                    **IMPORTANT:** AirfRANS initially does NOT have `edge_index` by default (it's a point cloud). We'll add this in the next step!\n",
    "# - data.num_nodes: The number of nodes in the graph.\n",
    "# - data.num_edges: The number of edges in the graph. (Will be 0 for now, until we add edges)\n",
    "\n",
    "print(f\"Shape of node features (data.x): {first_data_sample.x.shape}\")\n",
    "print(f\"Shape of node positions (data.pos): {first_data_sample.pos.shape}\")\n",
    "print(f\"Shape of node targets (data.y): {first_data_sample.y.shape}\")\n",
    "print(f\"Number of nodes in the first sample: {first_data_sample.num_nodes}\")\n",
    "print(f\"Number of edges in the first sample (initially 0): {getattr(first_data_sample, 'num_edges', 0)}\") # Safely access num_edges\n",
    "\n",
    "# Check the number of original node features and output targets\n",
    "print(f\"\\nNumber of original node features (in_channels): {train_dataset.num_node_features}\")\n",
    "print(f\"Number of original output targets (out_channels): {train_dataset.num_node_labels}\")"
   ]
  },
  {
   "cell_type": "code",
   "execution_count": null,
   "id": "eb23f5b1",
   "metadata": {},
   "outputs": [],
   "source": [
    "# Load the AirfRANS dataset\n",
    "# 'task=\"full\"' means we're using the full dataset for interpolation tasks (learning general behavior).\n",
    "# 'train=True' loads the training split, 'train=False' loads the test split.\n",
    "# We'll apply graph construction and normalization transforms in the next steps.\n",
    "print(\"Loading AirfRANS training dataset...\")\n",
    "train_dataset = AirfRANS(root=DATA_ROOT, task='full', train=True, transform=None) # transform=None for now\n",
    "print(f\"Loaded {len(train_dataset)} training samples.\")\n",
    "\n",
    "print(\"Loading AirfRANS test dataset...\")\n",
    "test_dataset = AirfRANS(root=DATA_ROOT, task='full', train=False, transform=None) # transform=None for now\n",
    "print(f\"Loaded {len(test_dataset)} test samples.\")\n",
    "\n",
    "# Let's inspect the first data sample from the training set\n",
    "print(\"\\nInspecting the first training data sample:\")\n",
    "first_data_sample = train_dataset[0]\n",
    "print(first_data_sample)"
   ]
  },
  {
   "cell_type": "code",
   "execution_count": null,
   "id": "5957fe52",
   "metadata": {},
   "outputs": [],
   "source": [
    "# Understanding the Data Object:\n",
    "# PyTorch Geometric's Data object is a simple container for graph data.\n",
    "# It typically contains:\n",
    "# - data.x: Node feature matrix with shape [num_nodes, num_node_features].\n",
    "#           For AirfRANS, this includes inlet velocity (vx, vy), distance to airfoil, and airfoil normals (nx, ny). (5 features)\n",
    "# - data.pos: Node position matrix with shape [num_nodes, num_dimensions].\n",
    "#             For AirfRANS, this is [num_nodes, 2] for (x, y) coordinates.\n",
    "# - data.y: Node target matrix with shape [num_nodes, num_node_labels].\n",
    "#           For AirfRANS, this includes velocity (vx, vy), pressure/specific_mass, and turbulent_kinematic_viscosity. (4 targets)\n",
    "# - data.edge_index: Graph connectivity in COO format with shape [2, num_edges].\n",
    "#                    **IMPORTANT:** AirfRANS initially does NOT have `edge_index` by default (it's a point cloud). We'll add this in the next step!\n",
    "# - data.num_nodes: The number of nodes in the graph.\n",
    "# - data.num_edges: The number of edges in the graph. (Will be 0 for now, until we add edges)\n",
    "\n",
    "print(f\"Shape of node features (data.x): {first_data_sample.x.shape}\")\n",
    "print(f\"Shape of node positions (data.pos): {first_data_sample.pos.shape}\")\n",
    "print(f\"Shape of node targets (data.y): {first_data_sample.y.shape}\")\n",
    "print(f\"Number of nodes in the first sample: {first_data_sample.num_nodes}\")\n",
    "print(f\"Number of edges in the first sample (initially 0): {getattr(first_data_sample, 'num_edges', 0)}\") # Safely access num_edges\n",
    "\n",
    "# Check the number of original node features and output targets\n",
    "print(f\"\\nNumber of original node features (in_channels): {train_dataset.num_node_features}\")\n",
    "print(f\"Number of original output targets (out_channels): {train_dataset.num_node_labels}\")"
   ]
  }
 ],
 "metadata": {
  "language_info": {
   "name": "python"
  }
 },
 "nbformat": 4,
 "nbformat_minor": 5
}
